{
 "cells": [
  {
   "cell_type": "code",
   "execution_count": null,
   "id": "e36e9149",
   "metadata": {},
   "outputs": [],
   "source": [
    "1. Add the current date to the text file today.txt as a string."
   ]
  },
  {
   "cell_type": "code",
   "execution_count": 58,
   "id": "f88817db",
   "metadata": {},
   "outputs": [
    {
     "name": "stdout",
     "output_type": "stream",
     "text": [
      "10\n",
      "2023-03-01\n"
     ]
    }
   ],
   "source": [
    "from datetime import date\n",
    "now=date.today()\n",
    "now_str=now.isoformat()\n",
    "with open('today.txt','wt') as output:\n",
    "    content=output.write(now_str)\n",
    "    print(content)\n",
    "print(now_str)"
   ]
  },
  {
   "cell_type": "code",
   "execution_count": null,
   "id": "74094d6c",
   "metadata": {},
   "outputs": [],
   "source": [
    "2. Read the text file today.txt into the string today_string"
   ]
  },
  {
   "cell_type": "code",
   "execution_count": 60,
   "id": "504a38d9",
   "metadata": {},
   "outputs": [
    {
     "name": "stdout",
     "output_type": "stream",
     "text": [
      "2023-03-01\n"
     ]
    }
   ],
   "source": [
    "file=open('today.txt','rt')\n",
    "today_string=file.read()\n",
    "print(today_string)"
   ]
  },
  {
   "cell_type": "code",
   "execution_count": null,
   "id": "e6f4df28",
   "metadata": {},
   "outputs": [],
   "source": [
    "3. Parse the date from today_string."
   ]
  },
  {
   "cell_type": "code",
   "execution_count": 79,
   "id": "a8385f46",
   "metadata": {},
   "outputs": [
    {
     "name": "stdout",
     "output_type": "stream",
     "text": [
      "2023-03-01 00:00:00\n"
     ]
    }
   ],
   "source": [
    "from datetime import datetime\n",
    "date_obj = datetime.strptime(today_string, '%Y-%m-%d')\n",
    "print(date_obj)"
   ]
  },
  {
   "cell_type": "code",
   "execution_count": null,
   "id": "d118b909",
   "metadata": {},
   "outputs": [],
   "source": [
    "4. List the files in your current directory"
   ]
  },
  {
   "cell_type": "code",
   "execution_count": 84,
   "id": "a9de180c",
   "metadata": {},
   "outputs": [
    {
     "data": {
      "text/plain": [
       "['.ipynb_checkpoints',\n",
       " 'abc.log',\n",
       " 'Assgnment_20.ipynb',\n",
       " 'assignment _1.ipynb',\n",
       " 'Assignment_10.ipynb',\n",
       " 'Assignment_11.ipynb',\n",
       " 'Assignment_12.ipynb',\n",
       " 'Assignment_14.ipynb',\n",
       " 'Assignment_15.ipynb',\n",
       " 'Assignment_16.ipynb',\n",
       " 'Assignment_17.ipynb',\n",
       " 'Assignment_18.ipynb',\n",
       " 'Assignment_19.ipynb',\n",
       " 'assignment_2.ipynb',\n",
       " 'Assignment_21.ipynb',\n",
       " 'Assignment_3.ipynb',\n",
       " 'Assignmet_13.ipynb',\n",
       " 'Assingment_8.ipynb',\n",
       " 'books.csv',\n",
       " 'books.db',\n",
       " 'class and objects.ipynb',\n",
       " 'Exception handling .ipynb',\n",
       " 'file_class.log',\n",
       " 'function_1.ipynb',\n",
       " 'g4g.csv',\n",
       " 'google.txt',\n",
       " 'if,else,for , while loop.ipynb',\n",
       " 'ineuron.db',\n",
       " 'Iterator generator.ipynb',\n",
       " 'joindb.db',\n",
       " 'Logger.log',\n",
       " 'logging.ipynb',\n",
       " 'module packages.ipynb',\n",
       " 'mongodb class 1.ipynb',\n",
       " 'mongodb.ipynb',\n",
       " 'my_module.py',\n",
       " 'oobs_programming.ipynb',\n",
       " 'oops 2.ipynb',\n",
       " 'oops concept .ipynb',\n",
       " 'OOPs.ipynb',\n",
       " 'oops1.ipynb',\n",
       " 'person.db',\n",
       " 'Programming Assignment_2.ipynb',\n",
       " 'Programming Assignment_3.ipynb',\n",
       " 'Programming Assignment_4.ipynb',\n",
       " 'Programming Assignment_5.ipynb',\n",
       " 'Programming assingment_1.ipynb',\n",
       " 'Programming_Assingment _7.ipynb',\n",
       " 'Programming_Assingment_6.ipynb',\n",
       " 'Python basic 4 Assignment 4.ipynb',\n",
       " 'Python Basic 5 Assignment 5.ipynb',\n",
       " 'Python Basic 6  Assignment_6.ipynb',\n",
       " 'python basic.ipynb',\n",
       " 'regular Expression.ipynb',\n",
       " 'SQL basic .ipynb',\n",
       " 'sql day 2 .ipynb',\n",
       " 'sql lite , map,reduce,filter.ipynb',\n",
       " 'sql.ipynb',\n",
       " 'tarctor.csv',\n",
       " 'test.log',\n",
       " 'test.txt',\n",
       " 'test1.txt',\n",
       " 'test10.log',\n",
       " 'test2.log',\n",
       " 'test2.py',\n",
       " 'test4.log',\n",
       " 'test4.py',\n",
       " 'test4.txt',\n",
       " 'test77.txt',\n",
       " 'testingclass',\n",
       " 'text.txt10',\n",
       " 'today.txt',\n",
       " 'Untitled.ipynb',\n",
       " '__pycache__']"
      ]
     },
     "execution_count": 84,
     "metadata": {},
     "output_type": "execute_result"
    }
   ],
   "source": [
    "import os\n",
    "os.listdir()"
   ]
  },
  {
   "cell_type": "code",
   "execution_count": null,
   "id": "4c2bc7fd",
   "metadata": {},
   "outputs": [],
   "source": [
    "5. Create a list of all of the files in your parent directory (minimum five files should be available)."
   ]
  },
  {
   "cell_type": "code",
   "execution_count": 93,
   "id": "55851781",
   "metadata": {},
   "outputs": [
    {
     "name": "stdout",
     "output_type": "stream",
     "text": [
      "['.ipynb_checkpoints', 'Gul', 'ML_Assignment', 'python', 'SMSSpamCollection', 'Untitled Folder', 'Untitled Folder 1', 'Untitled Folder 2']\n"
     ]
    }
   ],
   "source": [
    "import os\n",
    "\n",
    "# Get the parent directory\n",
    "parent_dir = os.path.abspath(os.path.join(os.getcwd(), os.pardir))\n",
    "\n",
    "# Get a list of all the files in the directory\n",
    "file_list = os.listdir(parent_dir)\n",
    "\n",
    "# Print the list of files\n",
    "print(file_list)"
   ]
  },
  {
   "cell_type": "code",
   "execution_count": null,
   "id": "ca705b4a",
   "metadata": {},
   "outputs": [],
   "source": [
    "6. Use multiprocessing to create three separate processes. Make each one wait a random number of seconds between one and five, print the current time, and then exit."
   ]
  },
  {
   "cell_type": "code",
   "execution_count": 104,
   "id": "39a335f0",
   "metadata": {},
   "outputs": [
    {
     "name": "stdout",
     "output_type": "stream",
     "text": [
      "<Process name='Process-0' pid=58872 parent=62864 started>\n",
      "<Process name='Process-1' pid=55440 parent=62864 started>\n",
      "<Process name='Process-2' pid=76952 parent=62864 started>\n"
     ]
    }
   ],
   "source": [
    "import multiprocessing\n",
    "import random\n",
    "import time\n",
    "from datetime import datetime\n",
    "\n",
    "# Define a function to be executed by each process\n",
    "def worker():\n",
    "    # Generate a random number of seconds to wait\n",
    "    wait_time = random.randint(1, 5)\n",
    "    # Wait for the specified number of seconds\n",
    "    time.sleep(wait_time)\n",
    "    # Get the current time\n",
    "    current_time = datetime.now().strftime(\"%H:%M:%S\")\n",
    "    # Print the current time\n",
    "    print(f\"Process {multiprocessing.current_process().name} - Current time: {current_time}\")\n",
    "\n",
    "# Create three separate processes\n",
    "for i in range(3):\n",
    "    p = multiprocessing.Process(target=worker, name=f\"Process-{i}\")\n",
    "    p.start()\n",
    "    print(p)"
   ]
  },
  {
   "cell_type": "code",
   "execution_count": 103,
   "id": "70258eb7",
   "metadata": {},
   "outputs": [
    {
     "name": "stdout",
     "output_type": "stream",
     "text": [
      "Process MainProcess - Current time: 21:59:41\n"
     ]
    }
   ],
   "source": [
    "w=worker()"
   ]
  },
  {
   "cell_type": "code",
   "execution_count": null,
   "id": "b98161af",
   "metadata": {},
   "outputs": [],
   "source": [
    "7. Create a date object of your day of birth."
   ]
  },
  {
   "cell_type": "code",
   "execution_count": 94,
   "id": "2a58b95f",
   "metadata": {},
   "outputs": [
    {
     "data": {
      "text/plain": [
       "datetime.date(1998, 12, 3)"
      ]
     },
     "execution_count": 94,
     "metadata": {},
     "output_type": "execute_result"
    }
   ],
   "source": [
    "my_day=date(1998,12,3)\n",
    "my_day"
   ]
  },
  {
   "cell_type": "code",
   "execution_count": null,
   "id": "5faae6a4",
   "metadata": {},
   "outputs": [],
   "source": [
    "8. What day of the week was your day of birth?\n",
    "With weekday(), Monday is 0 and Sunday is 6. With isoweekday(), Monday is 1 and\n",
    "Sunday is 7. Therefore, this date is a Saturday."
   ]
  },
  {
   "cell_type": "code",
   "execution_count": 95,
   "id": "49a59158",
   "metadata": {},
   "outputs": [
    {
     "data": {
      "text/plain": [
       "3"
      ]
     },
     "execution_count": 95,
     "metadata": {},
     "output_type": "execute_result"
    }
   ],
   "source": [
    "my_day.weekday()"
   ]
  },
  {
   "cell_type": "code",
   "execution_count": 96,
   "id": "3a184b0c",
   "metadata": {},
   "outputs": [
    {
     "data": {
      "text/plain": [
       "4"
      ]
     },
     "execution_count": 96,
     "metadata": {},
     "output_type": "execute_result"
    }
   ],
   "source": [
    "my_day.isoweekday()"
   ]
  },
  {
   "cell_type": "code",
   "execution_count": 98,
   "id": "a31f3c89",
   "metadata": {},
   "outputs": [
    {
     "data": {
      "text/plain": [
       "12"
      ]
     },
     "execution_count": 98,
     "metadata": {},
     "output_type": "execute_result"
    }
   ],
   "source": [
    "my_day.month"
   ]
  },
  {
   "cell_type": "code",
   "execution_count": null,
   "id": "b4a8e2d1",
   "metadata": {},
   "outputs": [],
   "source": [
    "9. When will you be (or when were you) 10,000 days old?"
   ]
  },
  {
   "cell_type": "code",
   "execution_count": 101,
   "id": "268d4bfe",
   "metadata": {},
   "outputs": [
    {
     "data": {
      "text/plain": [
       "datetime.date(2026, 4, 20)"
      ]
     },
     "execution_count": 101,
     "metadata": {},
     "output_type": "execute_result"
    }
   ],
   "source": [
    "from datetime import timedelta\n",
    "ten_thousand=my_day+timedelta(days=10000)\n",
    "ten_thousand"
   ]
  },
  {
   "cell_type": "code",
   "execution_count": null,
   "id": "7346bee1",
   "metadata": {},
   "outputs": [],
   "source": []
  }
 ],
 "metadata": {
  "kernelspec": {
   "display_name": "Python 3 (ipykernel)",
   "language": "python",
   "name": "python3"
  },
  "language_info": {
   "codemirror_mode": {
    "name": "ipython",
    "version": 3
   },
   "file_extension": ".py",
   "mimetype": "text/x-python",
   "name": "python",
   "nbconvert_exporter": "python",
   "pygments_lexer": "ipython3",
   "version": "3.9.12"
  }
 },
 "nbformat": 4,
 "nbformat_minor": 5
}
