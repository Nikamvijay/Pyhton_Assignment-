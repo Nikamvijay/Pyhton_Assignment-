{
 "cells": [
  {
   "cell_type": "code",
   "execution_count": null,
   "id": "1a901de2",
   "metadata": {},
   "outputs": [],
   "source": [
    "1. What does RGBA stand for?\n",
    "Ans:\n",
    "    RGBA(Red-Green-Blue-Alpha)\n",
    "The RGB color model is extended in this specification to include “alpha” to allow specification of the opacity of a color."
   ]
  },
  {
   "cell_type": "code",
   "execution_count": null,
   "id": "09f759db",
   "metadata": {},
   "outputs": [],
   "source": [
    "2. From the Pillow module, how do you get the RGBA value of any images?\n",
    "Ans:\n",
    "using following steps we can extract the any image RGBA  value using Pillow model\n",
    "1) import the Image module from the Pillow library. \n",
    "2)Open any image and get the RAGBAG values. \n",
    "3) Change the color. \n",
    "4) Store the changed image"
   ]
  },
  {
   "cell_type": "code",
   "execution_count": 2,
   "id": "3fd95f65",
   "metadata": {},
   "outputs": [
    {
     "name": "stdout",
     "output_type": "stream",
     "text": [
      "Requirement already satisfied: Pillow in c:\\users\\lenov\\anaconda3\\lib\\site-packages (9.4.0)\n"
     ]
    }
   ],
   "source": [
    "! pip install Pillow"
   ]
  },
  {
   "cell_type": "code",
   "execution_count": 3,
   "id": "3c04994a",
   "metadata": {},
   "outputs": [],
   "source": [
    "from PIL import Image"
   ]
  },
  {
   "cell_type": "code",
   "execution_count": null,
   "id": "38c9682e",
   "metadata": {},
   "outputs": [],
   "source": [
    "1) import the image modelu form the Pillow library.\n",
    "---> from PIL  import Image"
   ]
  },
  {
   "cell_type": "code",
   "execution_count": null,
   "id": "99f64160",
   "metadata": {},
   "outputs": [],
   "source": [
    "2) Open any image and get the RGBA values."
   ]
  },
  {
   "cell_type": "code",
   "execution_count": null,
   "id": "e8a54ffc",
   "metadata": {},
   "outputs": [],
   "source": [
    "img = Image.open('image.png')# rgba = img.convert(\"RGBA\") datas = rgba.getdata()"
   ]
  },
  {
   "cell_type": "code",
   "execution_count": null,
   "id": "1863805c",
   "metadata": {},
   "outputs": [],
   "source": [
    "3) change the color."
   ]
  },
  {
   "cell_type": "code",
   "execution_count": null,
   "id": "83c6887a",
   "metadata": {},
   "outputs": [],
   "source": [
    "newData = [] for item in datas: if item[0] == 0 and item[1] == 0 and item[2] == 0: # finding black colour by its RGB value # storing a transparent value when we find a black colour newData.append((255, 255, 255, 0)) else: newData.append(item) # other colours remain unchanged"
   ]
  },
  {
   "cell_type": "code",
   "execution_count": null,
   "id": "e2688c23",
   "metadata": {},
   "outputs": [],
   "source": [
    "4) store the changed image"
   ]
  },
  {
   "cell_type": "code",
   "execution_count": null,
   "id": "7b1283fd",
   "metadata": {},
   "outputs": [],
   "source": [
    "rgba.putdata(newData) rgba.save(\"transparent_image.png\", \"PNG\")"
   ]
  },
  {
   "cell_type": "code",
   "execution_count": null,
   "id": "7edca809",
   "metadata": {},
   "outputs": [],
   "source": []
  },
  {
   "cell_type": "code",
   "execution_count": null,
   "id": "f7e3ff74",
   "metadata": {},
   "outputs": [],
   "source": [
    "3. What is a box tuple, and how does it work?\n",
    "Ans:\n",
    "    \n",
    "Python Tuple is a collection of objects separated by commas. In some ways, a tuple is similar to a list in terms of indexing, nested objects, and repetition but a tuple is immutable, unlike lists which are mutable.\n",
    "\n",
    "\n",
    "The box. tuple submodule provides read-only access for the tuple userdata type. It allows, for a single tuple: selective retrieval of the field contents, retrieval of information about size, iteration over all the fields, and conversion to a Lua table. Below is a list of all box.\n",
    "The box.tuple submodule provides read-only access for the tuple userdata type"
   ]
  },
  {
   "cell_type": "code",
   "execution_count": null,
   "id": "6088b977",
   "metadata": {},
   "outputs": [],
   "source": [
    "4. Use your image and load in notebook then, How can you find out the width and height of an Image object?\n",
    "Ans:\n",
    "    In order to find the height and width of an image, there are two approaches. The first approach is by using the PIL(Pillow) library and the second approach is by using the Open-CV library.\n",
    "dd\n",
    "PIL is the Python Imaging Library is an important module which is used for image processing. It supports many formats of images such as “jpeg”, “png”, “ppm”, “tiff”, “bmp”, “gif”.  It provides many image editing capabilities. The Image module provides a class with the same name which is used to represent a PIL image."
   ]
  },
  {
   "cell_type": "code",
   "execution_count": 10,
   "id": "61a39425",
   "metadata": {},
   "outputs": [
    {
     "name": "stdout",
     "output_type": "stream",
     "text": [
      "The height of the image is:  480\n",
      "The width of the image is:  1049\n"
     ]
    }
   ],
   "source": [
    "# import required module\n",
    "from PIL import Image\n",
    "  \n",
    "# get image\n",
    "filepath = 'C:\\\\Users\\\\lenov\\\\Downloads\\car.webp'\n",
    "img = Image.open(filepath)\n",
    "  \n",
    "# get width and height\n",
    "width = img.width\n",
    "height = img.height\n",
    "  \n",
    "# display width and height\n",
    "print(\"The height of the image is: \", height)\n",
    "print(\"The width of the image is: \", width)"
   ]
  },
  {
   "cell_type": "code",
   "execution_count": null,
   "id": "df0afc54",
   "metadata": {},
   "outputs": [],
   "source": [
    "5. What method would you call to get Image object for a 100×100 image, excluding the lower-left quarter of it?\n",
    "Ans:\n",
    "    Removing a part (Region) from an image requires the Region of interest to be provided beforehand. Where providing ROI each time the process is undergone means the ROI is hardcoded. Whereas computation of ROI by itself (changing accordingly with different image and conditions) means the ROI is dynamic. Where the ROI is generally a size 4 tuple which contains the top left and bottom right coordinates of the Bbox. \n",
    "\n",
    "Removing a region means we first select the region we are willing to get rid of. Where the selection could be Region or Pixel value-based. Once the region has been identified we will turn the pixel values of that region to the ones of the background. Where background color is not constant, and hence depends upon the context for which the image is to be used. The most common backgrounds are either white or black. In this article, we will assume that the background color is black. To demonstrate this we would be removing the pixels in the region (0,0) to (100, 100) (top left side) of the aforementioned image. "
   ]
  },
  {
   "cell_type": "code",
   "execution_count": 12,
   "id": "07f98960",
   "metadata": {},
   "outputs": [
    {
     "ename": "FileNotFoundError",
     "evalue": "[Errno 2] No such file or directory: 'IMAGE_PATH'",
     "output_type": "error",
     "traceback": [
      "\u001b[1;31m---------------------------------------------------------------------------\u001b[0m",
      "\u001b[1;31mFileNotFoundError\u001b[0m                         Traceback (most recent call last)",
      "Input \u001b[1;32mIn [12]\u001b[0m, in \u001b[0;36m<cell line: 7>\u001b[1;34m()\u001b[0m\n\u001b[0;32m      2\u001b[0m \u001b[38;5;28;01mimport\u001b[39;00m \u001b[38;5;21;01mnumpy\u001b[39;00m \u001b[38;5;28;01mas\u001b[39;00m \u001b[38;5;21;01mnp\u001b[39;00m      \n\u001b[0;32m      4\u001b[0m \u001b[38;5;66;03m# Opening the image and converting \u001b[39;00m\n\u001b[0;32m      5\u001b[0m \u001b[38;5;66;03m# it to RGB color mode\u001b[39;00m\n\u001b[0;32m      6\u001b[0m \u001b[38;5;66;03m# IMAGE_PATH => Path to the image\u001b[39;00m\n\u001b[1;32m----> 7\u001b[0m img \u001b[38;5;241m=\u001b[39m \u001b[43mImage\u001b[49m\u001b[38;5;241;43m.\u001b[39;49m\u001b[43mopen\u001b[49m\u001b[43m(\u001b[49m\u001b[38;5;124;43mr\u001b[39;49m\u001b[38;5;124;43m\"\u001b[39;49m\u001b[38;5;124;43mIMAGE_PATH\u001b[39;49m\u001b[38;5;124;43m\"\u001b[39;49m\u001b[43m)\u001b[49m\u001b[38;5;241m.\u001b[39mconvert(\u001b[38;5;124m'\u001b[39m\u001b[38;5;124mRGB\u001b[39m\u001b[38;5;124m'\u001b[39m)\n\u001b[0;32m      9\u001b[0m \u001b[38;5;66;03m# Extracting the image data &\u001b[39;00m\n\u001b[0;32m     10\u001b[0m \u001b[38;5;66;03m# creating an numpy array out of it\u001b[39;00m\n\u001b[0;32m     11\u001b[0m img_arr \u001b[38;5;241m=\u001b[39m np\u001b[38;5;241m.\u001b[39marray(img)\n",
      "File \u001b[1;32m~\\anaconda3\\lib\\site-packages\\PIL\\Image.py:3131\u001b[0m, in \u001b[0;36mopen\u001b[1;34m(fp, mode, formats)\u001b[0m\n\u001b[0;32m   3128\u001b[0m     filename \u001b[38;5;241m=\u001b[39m fp\n\u001b[0;32m   3130\u001b[0m \u001b[38;5;28;01mif\u001b[39;00m filename:\n\u001b[1;32m-> 3131\u001b[0m     fp \u001b[38;5;241m=\u001b[39m \u001b[43mbuiltins\u001b[49m\u001b[38;5;241;43m.\u001b[39;49m\u001b[43mopen\u001b[49m\u001b[43m(\u001b[49m\u001b[43mfilename\u001b[49m\u001b[43m,\u001b[49m\u001b[43m \u001b[49m\u001b[38;5;124;43m\"\u001b[39;49m\u001b[38;5;124;43mrb\u001b[39;49m\u001b[38;5;124;43m\"\u001b[39;49m\u001b[43m)\u001b[49m\n\u001b[0;32m   3132\u001b[0m     exclusive_fp \u001b[38;5;241m=\u001b[39m \u001b[38;5;28;01mTrue\u001b[39;00m\n\u001b[0;32m   3134\u001b[0m \u001b[38;5;28;01mtry\u001b[39;00m:\n",
      "\u001b[1;31mFileNotFoundError\u001b[0m: [Errno 2] No such file or directory: 'IMAGE_PATH'"
     ]
    }
   ],
   "source": [
    "from PIL import Image\n",
    "import numpy as np      \n",
    "  \n",
    "# Opening the image and converting \n",
    "# it to RGB color mode\n",
    "# IMAGE_PATH => Path to the image\n",
    "img = Image.open(r\"IMAGE_PATH\").convert('RGB')\n",
    "  \n",
    "# Extracting the image data &\n",
    "# creating an numpy array out of it\n",
    "img_arr = np.array(img)\n",
    "  \n",
    "# Turning the pixel values of the 400x400 pixels to black \n",
    "img_arr[0 : 400, 0 : 400] = (0, 0, 0)\n",
    "  \n",
    "# Creating an image out of the previously modified array\n",
    "img = Image.fromarray(img_arr)\n",
    "  \n",
    "# Displaying the image\n",
    "img.show()"
   ]
  },
  {
   "cell_type": "code",
   "execution_count": null,
   "id": "fa10080c",
   "metadata": {},
   "outputs": [],
   "source": [
    "6. After making changes to an Image object, how could you save it as an image file?\n",
    "Ans:\n",
    "     PIL is the Python Imaging Library which provides the python interpreter with image editing capabilities. The Image module provides a class with the same name which is used to represent a PIL image. The module also provides a number of factory functions, including functions to load images from files, and to create new images.\n",
    "\n",
    "Image.save() Saves this image under the given filename. If no format is specified, the format to use is determined from the filename extension, if possible.\n",
    "\n",
    "Syntax: Image.save(fp, format=None, **params)\n",
    "\n",
    "Parameters:\n",
    "fp – A filename (string), pathlib.Path object or file object.\n",
    "format – Optional format override. If omitted, the format to use is determined from the filename extension."
   ]
  },
  {
   "cell_type": "code",
   "execution_count": null,
   "id": "b04dd885",
   "metadata": {},
   "outputs": [],
   "source": [
    "7. What module contains Pillow’s shape-drawing code?\n",
    "Ans:The 'ImageDraw' module provides simple 2D graphics support for Image Object. Generally, we use this module to create new images, annotate or retouch existing images and to generate graphics on the fly for web use. \n"
   ]
  },
  {
   "cell_type": "code",
   "execution_count": null,
   "id": "865b2057",
   "metadata": {},
   "outputs": [],
   "source": [
    "8. Image objects do not have drawing methods. What kind of object does? How do you get this kind of object?\n",
    "Ans:\n",
    "    An object in digital image processing is an identifiable portion of an image that can be interpreted as a single unit.\n",
    "    rawing objects are versatile; there are many ways you can use a Drawing object. You can display it as an image by using a DrawingImage and an Image control. You can use it with a DrawingBrush to paint an object, such as the Background of a Page. You can use it to describe the appearance of a DrawingVisual."
   ]
  },
  {
   "cell_type": "code",
   "execution_count": null,
   "id": "bb1b2369",
   "metadata": {},
   "outputs": [],
   "source": []
  },
  {
   "cell_type": "code",
   "execution_count": null,
   "id": "3f881e90",
   "metadata": {},
   "outputs": [],
   "source": []
  }
 ],
 "metadata": {
  "kernelspec": {
   "display_name": "Python 3 (ipykernel)",
   "language": "python",
   "name": "python3"
  },
  "language_info": {
   "codemirror_mode": {
    "name": "ipython",
    "version": 3
   },
   "file_extension": ".py",
   "mimetype": "text/x-python",
   "name": "python",
   "nbconvert_exporter": "python",
   "pygments_lexer": "ipython3",
   "version": "3.9.12"
  }
 },
 "nbformat": 4,
 "nbformat_minor": 5
}
